{
 "cells": [
  {
   "cell_type": "markdown",
   "id": "dd3e2e18",
   "metadata": {},
   "source": [
    "### The Recursive Character Text Splitter node splits document data recursively to keep all paragraphs, sentences then words together as long as possible. "
   ]
  },
  {
   "cell_type": "code",
   "execution_count": 2,
   "id": "6d726e39",
   "metadata": {},
   "outputs": [],
   "source": [
    "from langchain_text_splitters import RecursiveCharacterTextSplitter"
   ]
  },
  {
   "cell_type": "code",
   "execution_count": 1,
   "id": "307208a2",
   "metadata": {},
   "outputs": [
    {
     "name": "stdout",
     "output_type": "stream",
     "text": [
      "Virat Kohli, born on November 5, 1988, in Delhi, India, is one of the most celebrated cricketers in the modern era. From a young age, Kohli displayed an intense passion for cricket, often waking up early to attend training sessions. His father, Prem Kohli, recognized his son’s potential and enrolled him in the West Delhi Cricket Academy when he was just nine years old.\n",
      "\n",
      "Kohli’s rise through the ranks was rapid. He first gained national attention in 2008, when he led the Indian Under-19 team to victory in the ICC Under-19 World Cup held in Malaysia. His aggressive batting style, remarkable fitness, and leadership qualities caught the eye of selectors, and later that year, he made his international debut for India.\n",
      "\n",
      "Initially, Kohli struggled to cement his place in the national team. However, his determination and work ethic soon paid off. By 2011, he had become a crucial part of India’s batting lineup, contributing significantly to India’s triumph in the ICC Cricket World Cup. His ability to chase down big totals and perform under pressure earned him the nickname “Chase Master.”\n",
      "\n",
      "Over the years, Kohli developed a reputation for consistency and aggression. Between 2016 and 2019, he dominated world cricket, breaking numerous batting records. He became the fastest player to score 8,000, 9,000, 10,000, and 11,000 runs in One Day Internationals (ODIs). His unmatched hunger for runs and fitness revolutionized how Indian cricketers approached the game.\n",
      "\n",
      "Apart from his batting, Kohli’s leadership as captain of the Indian cricket team was marked by intensity and professionalism. Under his captaincy, India achieved its first-ever Test series win in Australia in 2018–19, a historic milestone. He also led India to the top of the ICC Test rankings, emphasizing discipline, fitness, and aggression as the team’s core values.\n",
      "\n",
      "Off the field, Kohli is known for his philanthropy and entrepreneurial ventures. He runs the Virat Kohli Foundation, which supports underprivileged children and promotes sports development in India. Kohli is also a global brand ambassador for several major companies and is among the most-followed athletes on social media.\n",
      "\n",
      "Despite stepping down from captaincy in 2022, Kohli remains an integral part of the Indian team. His passion for the game, dedication to fitness, and mental resilience continue to inspire millions worldwide. Whether it’s his cover drive or his trademark aggression, Virat Kohli symbolizes the modern Indian athlete—ambitious, fearless, and relentless.\n"
     ]
    }
   ],
   "source": [
    "with open(\"Virat_Kohli.txt\") as f:\n",
    "    text = f.read()\n",
    "print(text)"
   ]
  },
  {
   "cell_type": "code",
   "execution_count": 3,
   "id": "a28a3b17",
   "metadata": {},
   "outputs": [
    {
     "data": {
      "text/plain": [
       "2517"
      ]
     },
     "execution_count": 3,
     "metadata": {},
     "output_type": "execute_result"
    }
   ],
   "source": [
    "len(text)"
   ]
  },
  {
   "cell_type": "code",
   "execution_count": 4,
   "id": "ae06d52a",
   "metadata": {},
   "outputs": [
    {
     "name": "stdout",
     "output_type": "stream",
     "text": [
      "page_content='Virat Kohli, born on November 5, 1988, in Delhi, India, is one of the most celebrated cricketers in'\n"
     ]
    }
   ],
   "source": [
    "text_splitter = RecursiveCharacterTextSplitter(\n",
    "    chunk_size=100,\n",
    "    chunk_overlap=20,\n",
    "    length_function=len,\n",
    "    is_separator_regex=False,\n",
    ")\n",
    "\n",
    "texts = text_splitter.create_documents([text])\n",
    "print(texts[0])"
   ]
  },
  {
   "cell_type": "code",
   "execution_count": 5,
   "id": "28442aeb",
   "metadata": {},
   "outputs": [
    {
     "data": {
      "text/plain": [
       "['Virat Kohli, born on November 5, 1988, in Delhi, India, is one of the most celebrated cricketers in',\n",
       " 'cricketers in the modern era. From a young age, Kohli displayed an intense passion for cricket,']"
      ]
     },
     "execution_count": 5,
     "metadata": {},
     "output_type": "execute_result"
    }
   ],
   "source": [
    "text_splitter.split_text(text)[:2]"
   ]
  },
  {
   "cell_type": "code",
   "execution_count": null,
   "id": "09576e95",
   "metadata": {},
   "outputs": [],
   "source": []
  }
 ],
 "metadata": {
  "kernelspec": {
   "display_name": "base",
   "language": "python",
   "name": "python3"
  },
  "language_info": {
   "codemirror_mode": {
    "name": "ipython",
    "version": 3
   },
   "file_extension": ".py",
   "mimetype": "text/x-python",
   "name": "python",
   "nbconvert_exporter": "python",
   "pygments_lexer": "ipython3",
   "version": "3.12.3"
  }
 },
 "nbformat": 4,
 "nbformat_minor": 5
}
